{
 "cells": [
  {
   "cell_type": "markdown",
   "metadata": {},
   "source": [
    "## Pytorch实现线性回归"
   ]
  },
  {
   "cell_type": "code",
   "execution_count": 1,
   "metadata": {},
   "outputs": [],
   "source": [
    "import torch"
   ]
  },
  {
   "cell_type": "markdown",
   "metadata": {},
   "source": [
    "### 1. Prepare dataset"
   ]
  },
  {
   "cell_type": "code",
   "execution_count": 3,
   "metadata": {},
   "outputs": [],
   "source": [
    "# x, y 一定要是矩阵\n",
    "x_data = torch.Tensor([[1.0], [2.0], [3.0]])\n",
    "y_data = torch.Tensor([[2.0], [4.0], [6.0]])"
   ]
  },
  {
   "cell_type": "markdown",
   "metadata": {},
   "source": [
    "### 2. Design Model"
   ]
  },
  {
   "cell_type": "code",
   "execution_count": 4,
   "metadata": {},
   "outputs": [],
   "source": [
    "# 注意1：所有的模型都要继承 torch.nn.Module\n",
    "# 注意2：不需要写 backward，Module 中封装了\n",
    "class LinearModel(torch.nn.Module):\n",
    "    def __init__(self):\n",
    "        super(LinearModel, self).__init__() # 调用父类构造函数\n",
    "        self.linear = torch.nn.Linear(1, 1) # 参数：x的维度，y的维度\n",
    "        \n",
    "    def forward(self, x):\n",
    "        y_predict = self.linear(x)\n",
    "        return y_predict"
   ]
  },
  {
   "cell_type": "code",
   "execution_count": 5,
   "metadata": {},
   "outputs": [],
   "source": [
    "model = LinearModel() # 构造一个实例对象"
   ]
  },
  {
   "cell_type": "markdown",
   "metadata": {},
   "source": [
    "### 3. Construct Loss and Optimizer"
   ]
  },
  {
   "cell_type": "code",
   "execution_count": 6,
   "metadata": {},
   "outputs": [
    {
     "name": "stderr",
     "output_type": "stream",
     "text": [
      "D:\\Anaconda\\envs\\pytorch\\lib\\site-packages\\torch\\nn\\_reduction.py:44: UserWarning: size_average and reduce args will be deprecated, please use reduction='sum' instead.\n",
      "  warnings.warn(warning.format(ret))\n"
     ]
    }
   ],
   "source": [
    "criterion = torch.nn.MSELoss(size_average=False) # 损失函数\n",
    "optimizer = torch.optim.SGD(model.parameters(), lr=0.01) # 优化器"
   ]
  },
  {
   "cell_type": "markdown",
   "metadata": {},
   "source": [
    "### 4. Training Cycle"
   ]
  },
  {
   "cell_type": "code",
   "execution_count": 9,
   "metadata": {},
   "outputs": [],
   "source": [
    "for i in range(100):\n",
    "    y_predict = model(x_data)   # 计算 y_hat\n",
    "    loss = criterion(y_predict, y_data) # 计算损失值\n",
    "    \n",
    "    optimizer.zero_grad() # 注意：将梯度清零\n",
    "    loss.backward()       # 反向传播\n",
    "    optimizer.step()      # 更新"
   ]
  },
  {
   "cell_type": "code",
   "execution_count": 8,
   "metadata": {},
   "outputs": [
    {
     "name": "stdout",
     "output_type": "stream",
     "text": [
      "w =  1.8432927131652832\n",
      "b =  0.35623252391815186\n",
      "y_preict =  tensor([7.7294])\n"
     ]
    }
   ],
   "source": [
    "# Output weight and bias\n",
    "print(\"w = \", model.linear.weight.item())\n",
    "print(\"b = \", model.linear.bias.item())\n",
    "\n",
    "# Test Model\n",
    "x_test = torch.Tensor([4.0])\n",
    "y_test = model(x_test)\n",
    "print(\"y_preict = \", y_test.data)"
   ]
  },
  {
   "cell_type": "markdown",
   "metadata": {},
   "source": [
    "从上面的输出结果来看，我们理想的 $w$ 应该是 2，$b$ 是 0，可能是我们训练的周期不够多，下面我们将训练周期增加到 1000 次。"
   ]
  },
  {
   "cell_type": "code",
   "execution_count": 10,
   "metadata": {},
   "outputs": [],
   "source": [
    "for i in range(1000):\n",
    "    y_predict = model(x_data)   # 计算 y_hat\n",
    "    loss = criterion(y_predict, y_data) # 计算损失值\n",
    "    \n",
    "    optimizer.zero_grad() # 注意：将梯度清零\n",
    "    loss.backward()       # 反向传播\n",
    "    optimizer.step()      # 更新"
   ]
  },
  {
   "cell_type": "code",
   "execution_count": 11,
   "metadata": {},
   "outputs": [
    {
     "name": "stdout",
     "output_type": "stream",
     "text": [
      "w =  1.9999451637268066\n",
      "b =  0.00012438635167200118\n",
      "y_preict =  tensor([7.9999])\n"
     ]
    }
   ],
   "source": [
    "# Output weight and bias\n",
    "print(\"w = \", model.linear.weight.item())\n",
    "print(\"b = \", model.linear.bias.item())\n",
    "\n",
    "# Test Model\n",
    "x_test = torch.Tensor([4.0])\n",
    "y_test = model(x_test)\n",
    "print(\"y_preict = \", y_test.data)"
   ]
  },
  {
   "cell_type": "markdown",
   "metadata": {},
   "source": [
    "通过增加训练周期的次数，$w$ 明显很接近 2 了，$b$ 很接近于 0，最后的预测结果很接近 8"
   ]
  },
  {
   "cell_type": "code",
   "execution_count": null,
   "metadata": {},
   "outputs": [],
   "source": []
  }
 ],
 "metadata": {
  "kernelspec": {
   "display_name": "Python 3",
   "language": "python",
   "name": "python3"
  },
  "language_info": {
   "codemirror_mode": {
    "name": "ipython",
    "version": 3
   },
   "file_extension": ".py",
   "mimetype": "text/x-python",
   "name": "python",
   "nbconvert_exporter": "python",
   "pygments_lexer": "ipython3",
   "version": "3.7.9"
  }
 },
 "nbformat": 4,
 "nbformat_minor": 4
}
