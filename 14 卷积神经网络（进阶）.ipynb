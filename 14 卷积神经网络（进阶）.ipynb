{
 "cells": [
  {
   "cell_type": "code",
   "execution_count": 1,
   "metadata": {},
   "outputs": [],
   "source": [
    "import torch\n",
    "from torchvision import datasets\n",
    "from torchvision import transforms\n",
    "from torch.utils.data import DataLoader"
   ]
  },
  {
   "cell_type": "code",
   "execution_count": 3,
   "metadata": {},
   "outputs": [],
   "source": [
    "batch_size = 64\n",
    "transform = transforms.Compose([\n",
    "    transforms.ToTensor(),\n",
    "    transforms.Normalize((0.1307, ), (0.3081, ))\n",
    "])\n",
    "\n",
    "X_train = datasets.MNIST(root='../dataset/mnist/', train=True, download=False, transform=transform)\n",
    "X_test = datasets.MNIST(root='../dataset/mnist/', train=False, download=False, transform=transform)\n",
    "train_loader = DataLoader(X_train, shuffle=True, batch_size=batch_size)\n",
    "test_loader = DataLoader(X_test, shuffle=True, batch_size=batch_size)"
   ]
  },
  {
   "cell_type": "code",
   "execution_count": 11,
   "metadata": {},
   "outputs": [],
   "source": [
    "import torch.nn.functional as F\n",
    "class InceptionA(torch.nn.Module):\n",
    "    def __init__(self, in_channels):\n",
    "        super(InceptionA, self).__init__()\n",
    "        \n",
    "        self.branch_pool = torch.nn.Conv2d(in_channels, 24, kernel_size=1)  \n",
    "        \n",
    "        self.branch1x1 = torch.nn.Conv2d(in_channels, 16, kernel_size=1)\n",
    "        \n",
    "        self.branch5x5_1 = torch.nn.Conv2d(in_channels, 16, kernel_size=1)\n",
    "        self.branch5x5_2 = torch.nn.Conv2d(16, 24, kernel_size=5, padding=2)\n",
    "        \n",
    "        self.branch3x3_1 = torch.nn.Conv2d(in_channels, 16, kernel_size=1)\n",
    "        self.branch3x3_2 = torch.nn.Conv2d(16, 24, kernel_size=3, padding=1)\n",
    "        self.branch3x3_3 = torch.nn.Conv2d(24, 24, kernel_size=3, padding=1)\n",
    "    def forward(self, x):\n",
    "        branch_pool = F.avg_pool2d(x, kernel_size=3, stride=1, padding=1)\n",
    "        branch_pool = self.branch_pool(branch_pool)\n",
    "        \n",
    "        branch1x1 = self.branch1x1(x)\n",
    "        \n",
    "        branch5x5 = self.branch5x5_1(x)\n",
    "        branch5x5 = self.branch5x5_2(branch5x5)\n",
    "        \n",
    "        branch3x3 = self.branch3x3_1(x)\n",
    "        branch3x3 = self.branch3x3_2(branch3x3)\n",
    "        branch3x3 = self.branch3x3_3(branch3x3)\n",
    "        \n",
    "        outputs = [branch_pool, branch1x1, branch5x5, branch5x5]\n",
    "        return torch.cat(outputs, dim=1)"
   ]
  },
  {
   "cell_type": "code",
   "execution_count": 19,
   "metadata": {},
   "outputs": [],
   "source": [
    "class Net(torch.nn.Module):\n",
    "    def __init__(self):\n",
    "        super(Net, self).__init__()\n",
    "        self.conv1 = torch.nn.Conv2d(1, 10, kernel_size=5)\n",
    "        self.conv2 = torch.nn.Conv2d(88, 20, kernel_size=5)\n",
    "        \n",
    "        self.incep1 = InceptionA(in_channels=10)\n",
    "        self.incep2 = InceptionA(in_channels=20)\n",
    "        \n",
    "        self.mp = torch.nn.MaxPool2d(2)\n",
    "        self.fc = torch.nn.Linear(1408, 10)\n",
    "    def forward(self, x):\n",
    "        in_size = x.size(0)\n",
    "        x = F.relu(self.mp(self.conv1(x)))\n",
    "        x = self.incep1(x)\n",
    "        x = F.relu(self.mp(self.conv2(x)))\n",
    "        x = self.incep2(x)\n",
    "        x = x.view(in_size, -1)\n",
    "        x = self.fc(x)\n",
    "        return x"
   ]
  },
  {
   "cell_type": "code",
   "execution_count": 20,
   "metadata": {},
   "outputs": [],
   "source": [
    "model = Net()"
   ]
  },
  {
   "cell_type": "code",
   "execution_count": 21,
   "metadata": {},
   "outputs": [],
   "source": [
    "criterion = torch.nn.CrossEntropyLoss()\n",
    "optimizer = torch.optim.SGD(model.parameters(), lr=0.01, momentum=0.5)"
   ]
  },
  {
   "cell_type": "code",
   "execution_count": 22,
   "metadata": {},
   "outputs": [],
   "source": [
    "def train(epoch):\n",
    "    running_loss = 0.0\n",
    "    for batch_index, data in enumerate(train_loader, 0):\n",
    "        inputs, target = data\n",
    "        optimizer.zero_grad()\n",
    "        \n",
    "        outputs = model(inputs)\n",
    "        loss = criterion(outputs, target)\n",
    "        loss.backward()\n",
    "        optimizer.step()\n",
    "        \n",
    "        running_loss += loss\n",
    "        if(batch_index % 300 == 299):\n",
    "            print(\"[%d, %5d] loss: %.3f\" % (epoch + 1, batch_index + 1, running_loss / 300))\n",
    "            running_loss = 0.0"
   ]
  },
  {
   "cell_type": "code",
   "execution_count": 23,
   "metadata": {},
   "outputs": [],
   "source": [
    "def test():\n",
    "    correct = 0\n",
    "    total = 0\n",
    "    for data in test_loader:\n",
    "        inputs, target = data\n",
    "        outputs = model(inputs)\n",
    "        \n",
    "        _, predict = torch.max(outputs.data, dim=1)\n",
    "        total += target.size(0)\n",
    "        correct += (predict == target).sum().item()\n",
    "        \n",
    "    print(\"Accuracy on test set: %d %% [%d/%d]\" % (100 * correct / total, correct, total))    "
   ]
  },
  {
   "cell_type": "code",
   "execution_count": 24,
   "metadata": {},
   "outputs": [
    {
     "name": "stdout",
     "output_type": "stream",
     "text": [
      "[1,   300] loss: 0.799\n",
      "[1,   600] loss: 0.180\n",
      "[1,   900] loss: 0.122\n",
      "Accuracy on test set: 97 % [9745/10000]\n",
      "[2,   300] loss: 0.103\n",
      "[2,   600] loss: 0.086\n",
      "[2,   900] loss: 0.079\n",
      "Accuracy on test set: 98 % [9808/10000]\n",
      "[3,   300] loss: 0.069\n",
      "[3,   600] loss: 0.067\n",
      "[3,   900] loss: 0.067\n",
      "Accuracy on test set: 98 % [9835/10000]\n",
      "[4,   300] loss: 0.061\n",
      "[4,   600] loss: 0.052\n",
      "[4,   900] loss: 0.056\n",
      "Accuracy on test set: 98 % [9862/10000]\n",
      "[5,   300] loss: 0.049\n",
      "[5,   600] loss: 0.049\n",
      "[5,   900] loss: 0.046\n",
      "Accuracy on test set: 98 % [9870/10000]\n",
      "[6,   300] loss: 0.044\n",
      "[6,   600] loss: 0.040\n",
      "[6,   900] loss: 0.045\n",
      "Accuracy on test set: 98 % [9878/10000]\n",
      "[7,   300] loss: 0.041\n",
      "[7,   600] loss: 0.040\n",
      "[7,   900] loss: 0.035\n",
      "Accuracy on test set: 98 % [9882/10000]\n",
      "[8,   300] loss: 0.033\n",
      "[8,   600] loss: 0.036\n",
      "[8,   900] loss: 0.036\n",
      "Accuracy on test set: 99 % [9903/10000]\n",
      "[9,   300] loss: 0.033\n",
      "[9,   600] loss: 0.032\n",
      "[9,   900] loss: 0.033\n",
      "Accuracy on test set: 98 % [9899/10000]\n",
      "[10,   300] loss: 0.030\n",
      "[10,   600] loss: 0.031\n",
      "[10,   900] loss: 0.029\n",
      "Accuracy on test set: 98 % [9887/10000]\n",
      "Wall time: 6min 43s\n"
     ]
    }
   ],
   "source": [
    "%%time\n",
    "if __name__ == \"__main__\":\n",
    "    for epoch in range(10):\n",
    "        train(epoch)\n",
    "        test()"
   ]
  },
  {
   "cell_type": "markdown",
   "metadata": {},
   "source": [
    "## Residual Net"
   ]
  },
  {
   "cell_type": "code",
   "execution_count": 25,
   "metadata": {},
   "outputs": [],
   "source": [
    "import torch"
   ]
  },
  {
   "cell_type": "code",
   "execution_count": 28,
   "metadata": {},
   "outputs": [],
   "source": [
    "class ResidualBlock(torch.nn.Module):\n",
    "    def __init__(self, channels):\n",
    "        super(ResidualBlock, self).__init__()\n",
    "        self.channels = channels\n",
    "        \n",
    "        self.conv1 = torch.nn.Conv2d(channels, channels, kernel_size=3, padding=1)\n",
    "        self.conv2 = torch.nn.Conv2d(channels, channels, kernel_size=3, padding=1)\n",
    "    \n",
    "    def forward(self, x):   \n",
    "        y = F.relu(self.conv1(x))\n",
    "        y = self.conv2(y)\n",
    "        return F.relu(x + y)"
   ]
  },
  {
   "cell_type": "code",
   "execution_count": 29,
   "metadata": {},
   "outputs": [],
   "source": [
    "class Net(torch.nn.Module):\n",
    "    def __init__(self):\n",
    "        super(Net, self).__init__()\n",
    "        self.conv1 = torch.nn.Conv2d(1, 16, kernel_size=5)\n",
    "        self.conv2 = torch.nn.Conv2d(16, 32, kernel_size=5)\n",
    "        \n",
    "        self.mp = torch.nn.MaxPool2d(2)\n",
    "        \n",
    "        self.rblock1 = ResidualBlock(16)\n",
    "        self.rblock2 = ResidualBlock(32)\n",
    "        \n",
    "        self.fc = torch.nn.Linear(512, 10)\n",
    "        \n",
    "    def forward(self, x):\n",
    "        in_size = x.size(0)\n",
    "        x = self.mp(F.relu(self.conv1(x)))\n",
    "        x = self.rblock1(x)\n",
    "        x = self.mp(F.relu(self.conv2(x)))\n",
    "        x = self.rblock2(x)\n",
    "        x = x.view(in_size, -1)\n",
    "        x = self.fc(x)\n",
    "        return x"
   ]
  },
  {
   "cell_type": "code",
   "execution_count": 30,
   "metadata": {},
   "outputs": [],
   "source": [
    "model1 = Net()"
   ]
  },
  {
   "cell_type": "code",
   "execution_count": 31,
   "metadata": {},
   "outputs": [],
   "source": [
    "criterion = torch.nn.CrossEntropyLoss()\n",
    "optimizer = torch.optim.SGD(model1.parameters(), lr=0.01, momentum=0.5)"
   ]
  },
  {
   "cell_type": "code",
   "execution_count": 32,
   "metadata": {},
   "outputs": [
    {
     "name": "stdout",
     "output_type": "stream",
     "text": [
      "[1,   300] loss: 0.026\n",
      "[1,   600] loss: 0.025\n",
      "[1,   900] loss: 0.031\n",
      "Accuracy on test set: 98 % [9887/10000]\n",
      "[2,   300] loss: 0.028\n",
      "[2,   600] loss: 0.027\n",
      "[2,   900] loss: 0.026\n",
      "Accuracy on test set: 98 % [9887/10000]\n",
      "[3,   300] loss: 0.027\n",
      "[3,   600] loss: 0.027\n",
      "[3,   900] loss: 0.026\n",
      "Accuracy on test set: 98 % [9887/10000]\n",
      "[4,   300] loss: 0.028\n",
      "[4,   600] loss: 0.030\n",
      "[4,   900] loss: 0.024\n",
      "Accuracy on test set: 98 % [9887/10000]\n",
      "[5,   300] loss: 0.028\n",
      "[5,   600] loss: 0.028\n",
      "[5,   900] loss: 0.025\n",
      "Accuracy on test set: 98 % [9887/10000]\n",
      "[6,   300] loss: 0.027\n",
      "[6,   600] loss: 0.027\n",
      "[6,   900] loss: 0.027\n",
      "Accuracy on test set: 98 % [9887/10000]\n",
      "[7,   300] loss: 0.029\n",
      "[7,   600] loss: 0.026\n",
      "[7,   900] loss: 0.027\n",
      "Accuracy on test set: 98 % [9887/10000]\n",
      "[8,   300] loss: 0.029\n",
      "[8,   600] loss: 0.028\n",
      "[8,   900] loss: 0.025\n",
      "Accuracy on test set: 98 % [9887/10000]\n",
      "[9,   300] loss: 0.029\n",
      "[9,   600] loss: 0.026\n",
      "[9,   900] loss: 0.027\n",
      "Accuracy on test set: 98 % [9887/10000]\n",
      "[10,   300] loss: 0.027\n",
      "[10,   600] loss: 0.028\n",
      "[10,   900] loss: 0.025\n",
      "Accuracy on test set: 98 % [9887/10000]\n",
      "Wall time: 6min 47s\n"
     ]
    }
   ],
   "source": [
    "%%time\n",
    "if __name__ == \"__main__\":\n",
    "    for epoch in range(10):\n",
    "        train(epoch)\n",
    "        test()"
   ]
  }
 ],
 "metadata": {
  "kernelspec": {
   "display_name": "Python 3",
   "language": "python",
   "name": "python3"
  },
  "language_info": {
   "codemirror_mode": {
    "name": "ipython",
    "version": 3
   },
   "file_extension": ".py",
   "mimetype": "text/x-python",
   "name": "python",
   "nbconvert_exporter": "python",
   "pygments_lexer": "ipython3",
   "version": "3.7.9"
  }
 },
 "nbformat": 4,
 "nbformat_minor": 4
}
